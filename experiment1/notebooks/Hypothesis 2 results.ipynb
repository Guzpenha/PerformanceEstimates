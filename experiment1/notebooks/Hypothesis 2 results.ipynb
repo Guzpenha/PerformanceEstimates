{
 "cells": [
  {
   "cell_type": "code",
   "execution_count": 1,
   "metadata": {},
   "outputs": [
    {
     "name": "stderr",
     "output_type": "stream",
     "text": [
      "Loading required package: ggplot2\n"
     ]
    }
   ],
   "source": [
    "require(ggplot2)\n",
    "#TODO compare stacking vs stacking no features vs best single model\n",
    "## Gives count, mean, standard deviation, standard error of the mean, and confidence interval (default 95%).\n",
    "##   data: a data frame.\n",
    "##   measurevar: the name of a column that contains the variable to be summariezed\n",
    "##   groupvars: a vector containing names of columns that contain grouping variables\n",
    "##   na.rm: a boolean that indicates whether to ignore NA's\n",
    "##   conf.interval: the percent range of the confidence interval (default is 95%)\n",
    "summarySE <- function(data=NULL, measurevar, groupvars=NULL, na.rm=FALSE,\n",
    "                      conf.interval=.95, .drop=TRUE) {\n",
    "    library(plyr)\n",
    "\n",
    "    # New version of length which can handle NA's: if na.rm==T, don't count them\n",
    "    length2 <- function (x, na.rm=FALSE) {\n",
    "        if (na.rm) sum(!is.na(x))\n",
    "        else       length(x)\n",
    "    }\n",
    "\n",
    "    # This does the summary. For each group's data frame, return a vector with\n",
    "    # N, mean, and sd\n",
    "    datac <- ddply(data, groupvars, .drop=.drop,\n",
    "      .fun = function(xx, col) {\n",
    "        c(N    = length2(xx[[col]], na.rm=na.rm),\n",
    "          mean = mean   (xx[[col]], na.rm=na.rm),\n",
    "          sd   = sd     (xx[[col]], na.rm=na.rm)\n",
    "        )\n",
    "      },\n",
    "      measurevar\n",
    "    )\n",
    "\n",
    "    # Rename the \"mean\" column    \n",
    "    datac <- rename(datac, c(\"mean\" = measurevar))\n",
    "\n",
    "    datac$se <- datac$sd / sqrt(datac$N)  # Calculate standard error of the mean\n",
    "\n",
    "    # Confidence interval multiplier for standard error\n",
    "    # Calculate t-statistic for confidence interval: \n",
    "    # e.g., if conf.interval is .95, use .975 (above/below), and use df=N-1\n",
    "    ciMult <- qt(conf.interval/2 + .5, datac$N-1)\n",
    "    datac$ci <- datac$se * ciMult\n",
    "\n",
    "    return(datac)\n",
    "}"
   ]
  },
  {
   "cell_type": "code",
   "execution_count": 2,
   "metadata": {},
   "outputs": [
    {
     "data": {},
     "metadata": {},
     "output_type": "display_data"
    },
    {
     "data": {
      "image/png": "[encoded data removed]",
      "text/plain": [
       "plot without title"
      ]
     },
     "metadata": {},
     "output_type": "display_data"
    }
   ],
   "source": [
    "options(repr.plot.width=6, repr.plot.height=4)\n",
    "\n",
    "df2 = read.csv(\"/home/guz/personal/msc-gustavo-penha/data/created/weighted_no_features_approach_results.csv\")\n",
    "df1 = read.csv(\"/home/guz/personal/msc-gustavo-penha/data/created/weighted_approach_results.csv\")\n",
    "df1[\"user_features\"] = \"yes\"\n",
    "df2[\"user_features\"] = \"no\"\n",
    "df_join <- rbind(df1, df2)\n",
    "\n",
    "tgc <- data.frame(summarySE(df_join, measurevar=\"mae\",groupvars = c(\"Model\",\"user_features\")))\n",
    "\n",
    "ggplot(tgc, aes(Model,mae)) + \n",
    "    geom_point(aes(color=user_features,shape=user_features))+\n",
    "    geom_errorbar(width=.25, aes(ymin=mae-ci, ymax=mae+ci,color=user_features)) +\n",
    "    theme(axis.text.x = element_text(angle = 45, hjust = 1))"
   ]
  },
  {
   "cell_type": "code",
   "execution_count": null,
   "metadata": {
    "collapsed": true
   },
   "outputs": [],
   "source": [
    "# TODO compare with best single model\n",
    "\n",
    "best_df = read.csv(\"/home/guz/personal/msc-gustavo-penha/data/created_17/predictions_BiasedMatrixFactorization_with_errors.csv\")\n",
    "best_df[0:10,]"
   ]
  },
  {
   "cell_type": "code",
   "execution_count": null,
   "metadata": {
    "collapsed": true
   },
   "outputs": [],
   "source": [
    "rmse <- function(error)\n",
    "{\n",
    "    sqrt(mean(error^2))\n",
    "}\n",
    "print(rmse(best_df[\"error_BiasedMatrixFactorization\"]))\n",
    "nrow(best_df)"
   ]
  },
  {
   "cell_type": "code",
   "execution_count": 11,
   "metadata": {},
   "outputs": [
    {
     "data": {
      "text/html": [
       "<table>\n",
       "<thead><tr><th scope=col>movieId</th><th scope=col>userId</th><th scope=col>prediction_BiasedMatrixFactorization</th><th scope=col>rating</th><th scope=col>timestamp</th><th scope=col>error_BiasedMatrixFactorization</th><th scope=col>prediction_weighted</th><th scope=col>error_weighted</th></tr></thead>\n",
       "<tbody>\n",
       "\t<tr><td>100008    </td><td> 27053    </td><td>2.639630  </td><td>3.0       </td><td>1358922494</td><td>0.360370  </td><td>2.798114  </td><td>0.20188645</td></tr>\n",
       "\t<tr><td>100008    </td><td> 51558    </td><td>3.071274  </td><td>3.0       </td><td>1422833166</td><td>0.071274  </td><td>3.098759  </td><td>0.09875883</td></tr>\n",
       "\t<tr><td>100010    </td><td>106476    </td><td>3.130507  </td><td>2.5       </td><td>1420774929</td><td>0.630507  </td><td>3.410486  </td><td>0.91048633</td></tr>\n",
       "\t<tr><td>100010    </td><td> 12131    </td><td>1.942971  </td><td>1.5       </td><td>1398369060</td><td>0.442971  </td><td>2.214252  </td><td>0.71425193</td></tr>\n",
       "\t<tr><td>100010    </td><td>127063    </td><td>2.259258  </td><td>3.0       </td><td>1416758994</td><td>0.740742  </td><td>2.405834  </td><td>0.59416551</td></tr>\n",
       "\t<tr><td>  1000    </td><td>101282    </td><td>2.246842  </td><td>1.5       </td><td>1053916995</td><td>0.746842  </td><td>2.357926  </td><td>0.85792590</td></tr>\n",
       "\t<tr><td>100010    </td><td>135806    </td><td>2.306104  </td><td>3.0       </td><td>1375739179</td><td>0.693896  </td><td>2.803516  </td><td>0.19648367</td></tr>\n",
       "\t<tr><td>100010    </td><td> 20180    </td><td>2.623380  </td><td>1.0       </td><td>1424294683</td><td>1.623380  </td><td>2.735552  </td><td>1.73555242</td></tr>\n",
       "\t<tr><td>100010    </td><td> 24994    </td><td>3.509788  </td><td>4.0       </td><td>1424470787</td><td>0.490212  </td><td>3.803418  </td><td>0.19658213</td></tr>\n",
       "\t<tr><td>  1000    </td><td>102636    </td><td>3.552857  </td><td>3.0       </td><td> 968637191</td><td>0.552857  </td><td>3.256425  </td><td>0.25642532</td></tr>\n",
       "</tbody>\n",
       "</table>\n"
      ],
      "text/latex": [
       "\\begin{tabular}{r|llllllll}\n",
       " movieId & userId & prediction\\_BiasedMatrixFactorization & rating & timestamp & error\\_BiasedMatrixFactorization & prediction\\_weighted & error\\_weighted\\\\\n",
       "\\hline\n",
       "\t 100008     &  27053     & 2.639630   & 3.0        & 1358922494 & 0.360370   & 2.798114   & 0.20188645\\\\\n",
       "\t 100008     &  51558     & 3.071274   & 3.0        & 1422833166 & 0.071274   & 3.098759   & 0.09875883\\\\\n",
       "\t 100010     & 106476     & 3.130507   & 2.5        & 1420774929 & 0.630507   & 3.410486   & 0.91048633\\\\\n",
       "\t 100010     &  12131     & 1.942971   & 1.5        & 1398369060 & 0.442971   & 2.214252   & 0.71425193\\\\\n",
       "\t 100010     & 127063     & 2.259258   & 3.0        & 1416758994 & 0.740742   & 2.405834   & 0.59416551\\\\\n",
       "\t   1000     & 101282     & 2.246842   & 1.5        & 1053916995 & 0.746842   & 2.357926   & 0.85792590\\\\\n",
       "\t 100010     & 135806     & 2.306104   & 3.0        & 1375739179 & 0.693896   & 2.803516   & 0.19648367\\\\\n",
       "\t 100010     &  20180     & 2.623380   & 1.0        & 1424294683 & 1.623380   & 2.735552   & 1.73555242\\\\\n",
       "\t 100010     &  24994     & 3.509788   & 4.0        & 1424470787 & 0.490212   & 3.803418   & 0.19658213\\\\\n",
       "\t   1000     & 102636     & 3.552857   & 3.0        &  968637191 & 0.552857   & 3.256425   & 0.25642532\\\\\n",
       "\\end{tabular}\n"
      ],
      "text/markdown": [
       "\n",
       "movieId | userId | prediction_BiasedMatrixFactorization | rating | timestamp | error_BiasedMatrixFactorization | prediction_weighted | error_weighted | \n",
       "|---|---|---|---|---|---|---|---|---|---|\n",
       "| 100008     |  27053     | 2.639630   | 3.0        | 1358922494 | 0.360370   | 2.798114   | 0.20188645 | \n",
       "| 100008     |  51558     | 3.071274   | 3.0        | 1422833166 | 0.071274   | 3.098759   | 0.09875883 | \n",
       "| 100010     | 106476     | 3.130507   | 2.5        | 1420774929 | 0.630507   | 3.410486   | 0.91048633 | \n",
       "| 100010     |  12131     | 1.942971   | 1.5        | 1398369060 | 0.442971   | 2.214252   | 0.71425193 | \n",
       "| 100010     | 127063     | 2.259258   | 3.0        | 1416758994 | 0.740742   | 2.405834   | 0.59416551 | \n",
       "|   1000     | 101282     | 2.246842   | 1.5        | 1053916995 | 0.746842   | 2.357926   | 0.85792590 | \n",
       "| 100010     | 135806     | 2.306104   | 3.0        | 1375739179 | 0.693896   | 2.803516   | 0.19648367 | \n",
       "| 100010     |  20180     | 2.623380   | 1.0        | 1424294683 | 1.623380   | 2.735552   | 1.73555242 | \n",
       "| 100010     |  24994     | 3.509788   | 4.0        | 1424470787 | 0.490212   | 3.803418   | 0.19658213 | \n",
       "|   1000     | 102636     | 3.552857   | 3.0        |  968637191 | 0.552857   | 3.256425   | 0.25642532 | \n",
       "\n",
       "\n"
      ],
      "text/plain": [
       "   movieId userId prediction_BiasedMatrixFactorization rating timestamp \n",
       "1  100008   27053 2.639630                             3.0    1358922494\n",
       "2  100008   51558 3.071274                             3.0    1422833166\n",
       "3  100010  106476 3.130507                             2.5    1420774929\n",
       "4  100010   12131 1.942971                             1.5    1398369060\n",
       "5  100010  127063 2.259258                             3.0    1416758994\n",
       "6    1000  101282 2.246842                             1.5    1053916995\n",
       "7  100010  135806 2.306104                             3.0    1375739179\n",
       "8  100010   20180 2.623380                             1.0    1424294683\n",
       "9  100010   24994 3.509788                             4.0    1424470787\n",
       "10   1000  102636 3.552857                             3.0     968637191\n",
       "   error_BiasedMatrixFactorization prediction_weighted error_weighted\n",
       "1  0.360370                        2.798114            0.20188645    \n",
       "2  0.071274                        3.098759            0.09875883    \n",
       "3  0.630507                        3.410486            0.91048633    \n",
       "4  0.442971                        2.214252            0.71425193    \n",
       "5  0.740742                        2.405834            0.59416551    \n",
       "6  0.746842                        2.357926            0.85792590    \n",
       "7  0.693896                        2.803516            0.19648367    \n",
       "8  1.623380                        2.735552            1.73555242    \n",
       "9  0.490212                        3.803418            0.19658213    \n",
       "10 0.552857                        3.256425            0.25642532    "
      ]
     },
     "metadata": {},
     "output_type": "display_data"
    }
   ],
   "source": [
    "preds = read.csv(\"/home/guz/personal/msc-gustavo-penha/data/created/weighted_predictions.csv\")\n",
    "preds_df = merge(best_df,preds,by=c(\"movieId\",\"userId\"))\n",
    "names(preds_df)[names(preds_df) == 'predictions'] <- 'prediction_weighted'\n",
    "preds_df[\"error_weighted\"] = abs(preds_df[\"prediction_weighted\"] - preds_df[\"rating\"])\n",
    "preds_df[0:10,]"
   ]
  },
  {
   "cell_type": "code",
   "execution_count": 12,
   "metadata": {},
   "outputs": [
    {
     "data": {
      "text/html": [
       "7915194"
      ],
      "text/latex": [
       "7915194"
      ],
      "text/markdown": [
       "7915194"
      ],
      "text/plain": [
       "[1] 7915194"
      ]
     },
     "metadata": {},
     "output_type": "display_data"
    }
   ],
   "source": [
    "nrow(preds_df)"
   ]
  },
  {
   "cell_type": "code",
   "execution_count": 13,
   "metadata": {
    "collapsed": true
   },
   "outputs": [],
   "source": [
    "# preds = read.csv(\"/home/guz/personal/msc-gustavo-penha/data/created/weighted_predictions_no_features.csv\")\n",
    "# preds_df = merge(preds_df,preds,by=c(\"movieId\",\"userId\"))\n",
    "# names(preds_df)[names(preds_df) == 'predictions'] <- 'prediction_weighted_no_features'\n",
    "# preds_df[\"error_weighted_no_features\"] = abs(preds_df[\"prediction_weighted_no_features\"] - preds_df[\"rating\"])\n",
    "# preds_df[0:10,]"
   ]
  },
  {
   "cell_type": "code",
   "execution_count": 14,
   "metadata": {},
   "outputs": [
    {
     "name": "stderr",
     "output_type": "stream",
     "text": [
      "Warning message in mean.default(xx[[col]], na.rm = na.rm):\n",
      "“argument is not numeric or logical: returning NA”Warning message in qt(conf.interval/2 + 0.5, datac$N - 1):\n",
      "“NaNs produzidos”Warning message in mean.default(preds_df[[\"error_weighted_no_features\"]]):\n",
      "“argument is not numeric or logical: returning NA”"
     ]
    },
    {
     "data": {
      "text/html": [
       "<table>\n",
       "<thead><tr><th scope=col>mae</th><th scope=col>model</th><th scope=col>ci</th></tr></thead>\n",
       "<tbody>\n",
       "\t<tr><td>0.6067210           </td><td>weighted            </td><td>0.0003657561        </td></tr>\n",
       "\t<tr><td>0.6055113           </td><td>best_single         </td><td>0.0003575731        </td></tr>\n",
       "\t<tr><td>       NA           </td><td>weighted_no_features</td><td>          NA        </td></tr>\n",
       "</tbody>\n",
       "</table>\n"
      ],
      "text/latex": [
       "\\begin{tabular}{r|lll}\n",
       " mae & model & ci\\\\\n",
       "\\hline\n",
       "\t 0.6067210            & weighted             & 0.0003657561        \\\\\n",
       "\t 0.6055113              & best\\_single          & 0.0003575731          \\\\\n",
       "\t        NA                & weighted\\_no\\_features &           NA            \\\\\n",
       "\\end{tabular}\n"
      ],
      "text/markdown": [
       "\n",
       "mae | model | ci | \n",
       "|---|---|---|\n",
       "| 0.6067210            | weighted             | 0.0003657561         | \n",
       "| 0.6055113            | best_single          | 0.0003575731         | \n",
       "|        NA            | weighted_no_features |           NA         | \n",
       "\n",
       "\n"
      ],
      "text/plain": [
       "  mae       model                ci          \n",
       "1 0.6067210 weighted             0.0003657561\n",
       "2 0.6055113 best_single          0.0003575731\n",
       "3        NA weighted_no_features           NA"
      ]
     },
     "metadata": {},
     "output_type": "display_data"
    }
   ],
   "source": [
    "tgc1 <- summarySE(preds_df, measurevar=\"error_BiasedMatrixFactorization\")\n",
    "tgc2 <- summarySE(preds_df, measurevar=\"error_weighted\")\n",
    "tgc3 <- summarySE(preds_df, measurevar=\"error_weighted_no_features\")\n",
    "\n",
    "# mean(preds_df[[\"error_weighted_no_features\"]])\n",
    "comparison= data.frame(mae = c(mean(preds_df[[\"error_weighted\"]]),mean(preds_df[[\"error_BiasedMatrixFactorization\"]]),mean(preds_df[[\"error_weighted_no_features\"]])),model = c(\"weighted\",\"best_single\",\"weighted_no_features\"),\n",
    "                       ci = c(tgc2$ci,tgc1$ci,tgc3$ci))\n",
    "comparison"
   ]
  },
  {
   "cell_type": "code",
   "execution_count": 15,
   "metadata": {},
   "outputs": [
    {
     "name": "stderr",
     "output_type": "stream",
     "text": [
      "Warning message:\n",
      "“Removed 1 rows containing missing values (geom_point).”Warning message:\n",
      "“Removed 1 rows containing missing values (geom_errorbar).”"
     ]
    },
    {
     "data": {},
     "metadata": {},
     "output_type": "display_data"
    },
    {
     "data": {
      "image/png": "[encoded data removed]",
      "text/plain": [
       "plot without title"
      ]
     },
     "metadata": {},
     "output_type": "display_data"
    }
   ],
   "source": [
    "require(ggplot2)\n",
    "options(repr.plot.width=4, repr.plot.height=3)\n",
    "ggplot(comparison, aes(x=model,y=mae)) + geom_point()+\n",
    "geom_errorbar(position=position_dodge(.9), width=.25, aes(ymin=mae-ci, ymax=mae+ci)) + \n",
    " coord_flip()"
   ]
  },
  {
   "cell_type": "code",
   "execution_count": 18,
   "metadata": {},
   "outputs": [
    {
     "data": {
      "text/html": [
       "<table>\n",
       "<thead><tr><th></th><th scope=col>LinearReg</th></tr></thead>\n",
       "<tbody>\n",
       "\t<tr><th scope=row>MLP</th><td>1.5e-05</td></tr>\n",
       "</tbody>\n",
       "</table>\n"
      ],
      "text/latex": [
       "\\begin{tabular}{r|l}\n",
       "  & LinearReg\\\\\n",
       "\\hline\n",
       "\tMLP & 1.5e-05\\\\\n",
       "\\end{tabular}\n"
      ],
      "text/markdown": [
       "\n",
       "| <!--/--> | LinearReg | \n",
       "|---|\n",
       "| MLP | 1.5e-05 | \n",
       "\n",
       "\n"
      ],
      "text/plain": [
       "    LinearReg\n",
       "MLP 1.5e-05  "
      ]
     },
     "metadata": {},
     "output_type": "display_data"
    }
   ],
   "source": [
    "mae_df = read.csv(\"/home/guz/personal/msc-gustavo-penha/data/created/weighted_approach_results.csv\")\n",
    "pvalues = pairwise.t.test(mae_df$mae, mae_df$Model, p.adjust = \"none\")$p.value\n",
    "pvalues = format(pvalues, digits=2) \n",
    "pvalues"
   ]
  },
  {
   "cell_type": "code",
   "execution_count": 1,
   "metadata": {},
   "outputs": [
    {
     "name": "stderr",
     "output_type": "stream",
     "text": [
      "Loading required package: ggplot2\n"
     ]
    },
    {
     "data": {},
     "metadata": {},
     "output_type": "display_data"
    },
    {
     "data": {
      "image/png": "[encoded data removed]",
      "text/plain": [
       "plot without title"
      ]
     },
     "metadata": {},
     "output_type": "display_data"
    }
   ],
   "source": [
    "require(ggplot2)\n",
    "comparison = data.frame(mae = c(0.5979,0.6024,0.6055),model = c(\"Weighted Approach\",\"Switching Approach\",\"Best single RS (BMS)\"))\n",
    "ggplot(comparison, aes(x=model,y=mae)) + geom_point()+\n",
    " coord_flip()"
   ]
  },
  {
   "cell_type": "code",
   "execution_count": null,
   "metadata": {
    "collapsed": true
   },
   "outputs": [],
   "source": []
  }
 ],
 "metadata": {
  "kernelspec": {
   "display_name": "R",
   "language": "R",
   "name": "ir"
  },
  "language_info": {
   "codemirror_mode": "r",
   "file_extension": ".r",
   "mimetype": "text/x-r-source",
   "name": "R",
   "pygments_lexer": "r",
   "version": "3.2.3"
  }
 },
 "nbformat": 4,
 "nbformat_minor": 2
}
